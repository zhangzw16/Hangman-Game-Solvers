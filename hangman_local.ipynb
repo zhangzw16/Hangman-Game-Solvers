{
 "cells": [
  {
   "cell_type": "code",
   "execution_count": 1,
   "metadata": {},
   "outputs": [],
   "source": [
    "import os\n",
    "import collections\n",
    "from tqdm import tqdm\n",
    "import utils\n",
    "from deeplearning.train import dl_model\n",
    "\n",
    "# set cuda device\n",
    "os.environ[\"CUDA_VISIBLE_DEVICES\"] = \"3\""
   ]
  },
  {
   "cell_type": "code",
   "execution_count": 2,
   "metadata": {},
   "outputs": [],
   "source": [
    "class HangmanLocal(object):\n",
    "    def __init__(self, access_token=None, session=None, timeout=None):       \n",
    "        self.guessed_letters = []\n",
    "        self.misses = []\n",
    "        \n",
    "        full_dictionary_location = \"./dataset/words_250000_train.txt\"\n",
    "        self.full_dictionary = self.build_dictionary(full_dictionary_location)        \n",
    "        self.full_dictionary_common_letter_sorted = collections.Counter(\"\".join(self.full_dictionary)).most_common()\n",
    "        self.n_grams = utils.build_n_gram_from_file(full_dictionary_location)\n",
    "        self.current_dictionary = []\n",
    "\n",
    "        self.dl_model = dl_model('test_one')\n",
    "        \n",
    "\n",
    "    def guess(self, word): # word input example: \"_ p p _ e \"\n",
    "        ###############################################\n",
    "        # Replace with your own \"guess\" function here #\n",
    "        ###############################################\n",
    "\n",
    "        # clean the word so that we strip away the space characters\n",
    "        # replace \"_\" with \".\" as \".\" indicates any character in regular expressions\n",
    "        clean_word = word[::2].replace(\"_\",\".\")\n",
    "        len_word = len(clean_word)\n",
    "        len_right_letters = len(clean_word) - clean_word.count('.')\n",
    "    \n",
    "        if len_right_letters == 0 and len_word in utils.LETTER_ORDER_DICT:\n",
    "            order = utils.LETTER_ORDER_DICT[len_word]\n",
    "            for letter in order:\n",
    "                if letter not in self.guessed_letters:\n",
    "                    # print(\"first guess: \", letter)\n",
    "                    return letter\n",
    "                \n",
    "        # # get the most common letter from the dictionary   \n",
    "        \n",
    "        ngram_probs = utils.get_n_gram_prob(self.n_grams, clean_word, self.guessed_letters)\n",
    "        # Deep Learning way\n",
    "        best_chars, nn_probs = self.dl_model.predict(clean_word, self.misses)\n",
    "\n",
    "        nn_probs = [p if chr(i+97) not in self.misses and chr(i+97) not in clean_word else 0.0 for i,p in enumerate(nn_probs)]\n",
    "        nn_probs = [p/sum(nn_probs) for p in nn_probs]\n",
    "\n",
    "        final_probs = nn_probs + ngram_probs\n",
    "        best_char = chr(final_probs.argmax() + 97)\n",
    "        \n",
    "        # # print(best_chars, self.misses, clean_word)\n",
    "        # for pred in best_chars:\n",
    "        #     if pred not in self.misses and pred not in clean_word:\n",
    "        #         best_char = pred\n",
    "        #         break\n",
    "\n",
    "        return best_char\n",
    "                \n",
    "    ##########################################################\n",
    "    # You'll likely not need to modify any of the code below #\n",
    "    ##########################################################\n",
    "    \n",
    "    def build_dictionary(self, dictionary_file_location):\n",
    "        text_file = open(dictionary_file_location,\"r\")\n",
    "        full_dictionary = text_file.read().splitlines()\n",
    "        text_file.close()\n",
    "        return full_dictionary\n",
    "                    \n",
    "    def start_game(self, word_to_guess, practice=True, verbose=True):\n",
    "        # reset guessed letters to empty set and current plausible dictionary to the full dictionary\n",
    "        self.guessed_letters = []\n",
    "        self.misses = []\n",
    "        self.current_dictionary = self.full_dictionary\n",
    "\n",
    "        game_id = 1\n",
    "        word = \"_ \" * len(word_to_guess)\n",
    "        letter_remains = len(word_to_guess)\n",
    "        tries_remains = 6  # Set a fixed number of tries\n",
    "        if verbose:\n",
    "            print(\"Successfully start a new game! Game ID: {0}. # of tries remaining: {1}. Word: {2}.\".format(game_id, tries_remains, word))\n",
    "        while tries_remains > 0:\n",
    "            # get guessed letter from user code\n",
    "            guess_letter = self.guess(word)\n",
    "\n",
    "            # append guessed letter to guessed letters field in hangman object\n",
    "            self.guessed_letters.append(guess_letter)\n",
    "            if verbose:\n",
    "                print(\"Guessing letter: {0}\".format(guess_letter))\n",
    "\n",
    "            if guess_letter in word_to_guess:\n",
    "                # Replace the underline with the guessed letter\n",
    "                for i in range(len(word_to_guess)):\n",
    "                    if word_to_guess[i] == guess_letter:\n",
    "                        letter_remains -= 1\n",
    "                        word = word[:2 * i] + guess_letter + word[2 * i + 1:]\n",
    "                if verbose:\n",
    "                    print(\"Successfully guessed letter: {0}. Word: {1}\".format(guess_letter, word))\n",
    "                if letter_remains == 0:\n",
    "                    if verbose:\n",
    "                        print(\"Successfully finished game: {0}\".format(game_id))\n",
    "                    return True\n",
    "            else:\n",
    "                self.misses.append(guess_letter)\n",
    "                tries_remains -= 1  # Decrease the number of tries if the guess was wrong\n",
    "                if verbose:\n",
    "                    print(\"Failed. # of tries remaining: {1}\".format(guess_letter, tries_remains))\n",
    "\n",
    "            if tries_remains == 0:\n",
    "                if verbose:\n",
    "                    print(\"Failed game: {0}. Because of: # of tries exceeded!\".format(game_id))\n",
    "                return False\n",
    "\n",
    "        return False"
   ]
  },
  {
   "cell_type": "code",
   "execution_count": 3,
   "metadata": {},
   "outputs": [
    {
     "name": "stdout",
     "output_type": "stream",
     "text": [
      "Architecture: GRU_4_1024_26\n",
      "models/GRU_4_1024_26/best_GRU_4_1024.pth\n",
      "Loaded pretrained model from: models/GRU_4_1024_26/best_GRU_4_1024.pth\n"
     ]
    }
   ],
   "source": [
    "game = HangmanLocal()\n",
    "# from Hangman import HangmanAPI\n",
    "# game = HangmanAPI()"
   ]
  },
  {
   "cell_type": "code",
   "execution_count": 4,
   "metadata": {},
   "outputs": [
    {
     "name": "stdout",
     "output_type": "stream",
     "text": [
      "Successfully start a new game! Game ID: 1. # of tries remaining: 6. Word: _ _ _ _ _ .\n",
      "Guessing letter: s\n",
      "Failed. # of tries remaining: 5\n",
      "Guessing letter: e\n",
      "Failed. # of tries remaining: 4\n",
      "Guessing letter: a\n",
      "Successfully guessed letter: a. Word: _ _ a _ _ \n",
      "Guessing letter: r\n",
      "Failed. # of tries remaining: 3\n",
      "Guessing letter: l\n",
      "Successfully guessed letter: l. Word: _ l a _ _ \n",
      "Guessing letter: c\n",
      "Successfully guessed letter: c. Word: c l a _ _ \n",
      "Guessing letter: m\n",
      "Successfully guessed letter: m. Word: c l a _ m \n",
      "Guessing letter: i\n",
      "Successfully guessed letter: i. Word: c l a i m \n",
      "Successfully finished game: 1\n"
     ]
    },
    {
     "data": {
      "text/plain": [
       "True"
      ]
     },
     "execution_count": 4,
     "metadata": {},
     "output_type": "execute_result"
    }
   ],
   "source": [
    "# test\n",
    "word = \"claim\"\n",
    "game.start_game(word)"
   ]
  },
  {
   "cell_type": "code",
   "execution_count": 5,
   "metadata": {},
   "outputs": [
    {
     "name": "stdout",
     "output_type": "stream",
     "text": [
      "Total words: 172248\n",
      "Running 1th time...\n"
     ]
    },
    {
     "name": "stderr",
     "output_type": "stream",
     "text": [
      "100%|██████████| 1000/1000 [00:42<00:00, 23.36it/s]\n"
     ]
    },
    {
     "name": "stdout",
     "output_type": "stream",
     "text": [
      "Winning rate: 729/1000=0.729\n",
      "Running 2th time...\n"
     ]
    },
    {
     "name": "stderr",
     "output_type": "stream",
     "text": [
      "100%|██████████| 1000/1000 [00:43<00:00, 23.09it/s]\n"
     ]
    },
    {
     "name": "stdout",
     "output_type": "stream",
     "text": [
      "Winning rate: 722/1000=0.722\n",
      "Running 3th time...\n"
     ]
    },
    {
     "name": "stderr",
     "output_type": "stream",
     "text": [
      "100%|██████████| 1000/1000 [00:43<00:00, 22.83it/s]\n"
     ]
    },
    {
     "name": "stdout",
     "output_type": "stream",
     "text": [
      "Winning rate: 732/1000=0.732\n",
      "Running 4th time...\n"
     ]
    },
    {
     "name": "stderr",
     "output_type": "stream",
     "text": [
      "100%|██████████| 1000/1000 [00:43<00:00, 23.13it/s]\n"
     ]
    },
    {
     "name": "stdout",
     "output_type": "stream",
     "text": [
      "Winning rate: 719/1000=0.719\n",
      "Running 5th time...\n"
     ]
    },
    {
     "name": "stderr",
     "output_type": "stream",
     "text": [
      "100%|██████████| 1000/1000 [00:42<00:00, 23.27it/s]"
     ]
    },
    {
     "name": "stdout",
     "output_type": "stream",
     "text": [
      "Winning rate: 751/1000=0.751\n",
      "Final winning rate: 0.7305999999999999\n"
     ]
    },
    {
     "name": "stderr",
     "output_type": "stream",
     "text": [
      "\n"
     ]
    }
   ],
   "source": [
    "# # load words randomly from the words.txt\n",
    "# with open(\"words_alpha.txt\", \"r\") as text_file:\n",
    "#     words = text_file.read().splitlines()\n",
    "# print(\"Total words: {0}\".format(len(words)))\n",
    "\n",
    "# # remove words that contain in words_250000_train.txt\n",
    "# with open(\"words_250000_train.txt\", \"r\") as text_file:\n",
    "#     full_dictionary = text_file.read().splitlines()\n",
    "# words = [word for word in words if word not in full_dictionary]\n",
    "\n",
    "# print(\"Total words: {0}\".format(len(words)))\n",
    "# # save to words_not_contained.txt\n",
    "# with open(\"words_not_contained.txt\", \"w\") as text_file:\n",
    "#     for word in words:\n",
    "#         text_file.write(word + \"\\n\")\n",
    "\n",
    "# load words from words_not_contained.txt\n",
    "with open(\"./dataset/words_not_contained.txt\", \"r\") as text_file:\n",
    "    words = text_file.read().splitlines()\n",
    "\n",
    "# filter words with length less than 5\n",
    "words = [word for word in words if len(word) > 5]\n",
    "\n",
    "print(\"Total words: {0}\".format(len(words)))\n",
    "\n",
    "# shuffle the words\n",
    "import random\n",
    "\n",
    "final_rates = []\n",
    "# run five times\n",
    "for i in range(5):\n",
    "    print(\"Running {0}th time...\".format(i + 1))\n",
    "    random.shuffle(words)\n",
    "\n",
    "    test_times = 1000\n",
    "\n",
    "    # start the game\n",
    "    win = 0\n",
    "    for i in tqdm(range(test_times)):\n",
    "        if game.start_game(words[i], verbose=False):\n",
    "            win += 1\n",
    "    print(\"Winning rate: {0}/{1}={2}\".format(win, test_times, win / test_times))\n",
    "    final_rates.append(win / test_times)\n",
    "print(\"Final winning rate: {0}\".format(sum(final_rates) / len(final_rates)))"
   ]
  },
  {
   "cell_type": "markdown",
   "metadata": {},
   "source": [
    "# Results\n",
    "\n",
    "<!-- make table -->\n",
    "| Model |  Score | running time|\n",
    "|-------|--------------|--------|\n",
    "|baseline| 21.04 | - |\n",
    "|del_len_match| 35.00 | - |\n",
    "|re.search| 38.16 | 3:00 |\n",
    "|first order| 38.04 | 1:33 |\n",
    "|NLP | 56.1 | 0:01 |\n",
    "|NLP+ | 61.38 | 0:01 |\n",
    "|NLP + first order | 62.28 | 0:01 |\n",
    "|NLP + 2/4 | 64.32 | 0:07 |\n",
    "|NLP + 2/4 + first order | 62.52 | 0:07 |\n",
    "|NLP + 2/4 + 2/5 | 65.04 | 0:13 |\n",
    "|NLP + 2/4 + 2/5 + first | 66.16 | 0:12 |\n",
    "|NLP + 2/4 + 2/5 + 3/5 + first | 65.90 | 2:18 |\n",
    "|GRU-2-512 | 48.88 | 1:38 |\n",
    "|GRU-2-1024 + interval-1| 64.90 | 0:40 |\n",
    "|GRU-4-1024 + interval-1| 69.36 | 0:40 |"
   ]
  },
  {
   "cell_type": "markdown",
   "metadata": {},
   "source": [
    "# References\n",
    "- https://github.com/dwyl/english-words"
   ]
  },
  {
   "cell_type": "markdown",
   "metadata": {},
   "source": []
  }
 ],
 "metadata": {
  "kernelspec": {
   "display_name": "base",
   "language": "python",
   "name": "python3"
  },
  "language_info": {
   "codemirror_mode": {
    "name": "ipython",
    "version": 3
   },
   "file_extension": ".py",
   "mimetype": "text/x-python",
   "name": "python",
   "nbconvert_exporter": "python",
   "pygments_lexer": "ipython3",
   "version": "3.8.19"
  }
 },
 "nbformat": 4,
 "nbformat_minor": 2
}
